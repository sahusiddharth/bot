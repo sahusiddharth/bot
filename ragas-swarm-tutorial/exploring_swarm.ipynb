{
 "cells": [
  {
   "cell_type": "markdown",
   "metadata": {},
   "source": [
    "# Most basic agent\n",
    "- No tools\n",
    "- Single Call\n",
    "- Single Agent"
   ]
  },
  {
   "cell_type": "code",
   "execution_count": 1,
   "metadata": {},
   "outputs": [
    {
     "name": "stdout",
     "output_type": "stream",
     "text": [
      "Hello! How can I assist you today?\n"
     ]
    }
   ],
   "source": [
    "from swarm import Swarm, Agent\n",
    "from openai import OpenAI\n",
    "\n",
    "\n",
    "client = Swarm()\n",
    "\n",
    "agent = Agent(\n",
    "    name=\"basic agent\",\n",
    "    instructions=\"You are a helpful agent.\",\n",
    "    model=\"gpt-4o-mini\",\n",
    ")\n",
    "\n",
    "messages = [{\"role\": \"user\", \"content\": \"Hi!\"}]\n",
    "response = client.run(agent=agent, messages=messages)\n",
    "\n",
    "print(response.messages[-1][\"content\"])"
   ]
  },
  {
   "cell_type": "code",
   "execution_count": 2,
   "metadata": {},
   "outputs": [
    {
     "name": "stdout",
     "output_type": "stream",
     "text": [
      "[{'audio': None,\n",
      "  'content': 'Hello! How can I assist you today?',\n",
      "  'function_call': None,\n",
      "  'refusal': None,\n",
      "  'role': 'assistant',\n",
      "  'sender': 'basic agent',\n",
      "  'tool_calls': None}]\n",
      "<class 'swarm.types.Response'>\n"
     ]
    }
   ],
   "source": [
    "from pprint import pprint\n",
    "\n",
    "\n",
    "pprint(response.messages) \n",
    "# the sender information is populted by the agent that whose\n",
    "# AI response is that message.\n",
    "\n",
    "print(type(response))"
   ]
  },
  {
   "cell_type": "code",
   "execution_count": 3,
   "metadata": {},
   "outputs": [
    {
     "data": {
      "text/plain": [
       "dict"
      ]
     },
     "execution_count": 3,
     "metadata": {},
     "output_type": "execute_result"
    }
   ],
   "source": [
    "type(response.messages[0])"
   ]
  },
  {
   "cell_type": "markdown",
   "metadata": {},
   "source": [
    "# Basic Function Calling"
   ]
  },
  {
   "cell_type": "code",
   "execution_count": 4,
   "metadata": {},
   "outputs": [
    {
     "name": "stdout",
     "output_type": "stream",
     "text": [
      "The current weather in Paris is 67°F.\n"
     ]
    }
   ],
   "source": [
    "from swarm import Swarm, Agent\n",
    "from pprint import pprint\n",
    "\n",
    "client = Swarm()\n",
    "\n",
    "\n",
    "def get_weather(location) -> str:\n",
    "    return \"{'temp':67, 'unit':'F'}\"\n",
    "\n",
    "\n",
    "agent = Agent(\n",
    "    name=\"Agent\",\n",
    "    instructions=\"You are a helpful agent.\",\n",
    "    functions=[get_weather],\n",
    "    model=\"gpt-4o-mini\",\n",
    ")\n",
    "\n",
    "messages = [{\"role\": \"user\", \"content\": \"What's the weather in Paris?\"}]\n",
    "# In swarm there is no concept of human/AI/tool message\n",
    "# human message is passed as a dictonary \n",
    "# the AI/tool message is handled as a response \n",
    "\n",
    "response = client.run(agent=agent, messages=messages)\n",
    "print(response.messages[-1][\"content\"])"
   ]
  },
  {
   "cell_type": "code",
   "execution_count": 5,
   "metadata": {},
   "outputs": [
    {
     "name": "stdout",
     "output_type": "stream",
     "text": [
      "[{'audio': None,\n",
      "  'content': None,\n",
      "  'function_call': None,\n",
      "  'refusal': None,\n",
      "  'role': 'assistant',\n",
      "  'sender': 'Agent',\n",
      "  'tool_calls': [{'function': {'arguments': '{\"location\":\"Paris\"}',\n",
      "                               'name': 'get_weather'},\n",
      "                  'id': 'call_6F1SnfRNM9l03tHs0k72Qnrg',\n",
      "                  'type': 'function'}]},\n",
      " {'content': \"{'temp':67, 'unit':'F'}\",\n",
      "  'role': 'tool',\n",
      "  'tool_call_id': 'call_6F1SnfRNM9l03tHs0k72Qnrg',\n",
      "  'tool_name': 'get_weather'},\n",
      " {'audio': None,\n",
      "  'content': 'The current weather in Paris is 67°F.',\n",
      "  'function_call': None,\n",
      "  'refusal': None,\n",
      "  'role': 'assistant',\n",
      "  'sender': 'Agent',\n",
      "  'tool_calls': None}]\n"
     ]
    }
   ],
   "source": [
    "pprint(response.messages)"
   ]
  },
  {
   "cell_type": "code",
   "execution_count": 6,
   "metadata": {},
   "outputs": [
    {
     "name": "stdout",
     "output_type": "stream",
     "text": [
      "{'audio': None,\n",
      " 'content': None,\n",
      " 'function_call': None,\n",
      " 'refusal': None,\n",
      " 'role': 'assistant',\n",
      " 'sender': 'Agent',\n",
      " 'tool_calls': [{'function': {'arguments': '{\"location\":\"Paris\"}',\n",
      "                              'name': 'get_weather'},\n",
      "                 'id': 'call_6F1SnfRNM9l03tHs0k72Qnrg',\n",
      "                 'type': 'function'}]}\n"
     ]
    }
   ],
   "source": [
    "pprint(response.messages[0])"
   ]
  },
  {
   "cell_type": "code",
   "execution_count": 7,
   "metadata": {},
   "outputs": [
    {
     "data": {
      "text/plain": [
       "dict"
      ]
     },
     "execution_count": 7,
     "metadata": {},
     "output_type": "execute_result"
    }
   ],
   "source": [
    "type(response.messages[0]['tool_calls'][0])"
   ]
  },
  {
   "cell_type": "code",
   "execution_count": 8,
   "metadata": {},
   "outputs": [
    {
     "name": "stdout",
     "output_type": "stream",
     "text": [
      "[{'content': \"What's the weather in Paris?\", 'role': 'user'},\n",
      " Response(messages=[{'content': None, 'refusal': None, 'role': 'assistant', 'audio': None, 'function_call': None, 'tool_calls': [{'id': 'call_6F1SnfRNM9l03tHs0k72Qnrg', 'function': {'arguments': '{\"location\":\"Paris\"}', 'name': 'get_weather'}, 'type': 'function'}], 'sender': 'Agent'}, {'role': 'tool', 'tool_call_id': 'call_6F1SnfRNM9l03tHs0k72Qnrg', 'tool_name': 'get_weather', 'content': \"{'temp':67, 'unit':'F'}\"}, {'content': 'The current weather in Paris is 67°F.', 'refusal': None, 'role': 'assistant', 'audio': None, 'function_call': None, 'tool_calls': None, 'sender': 'Agent'}], agent=Agent(name='Agent', model='gpt-4o-mini', instructions='You are a helpful agent.', functions=[<function get_weather at 0x11b121240>], tool_choice=None, parallel_tool_calls=True), context_variables={})]\n"
     ]
    }
   ],
   "source": [
    "messages.append(response)\n",
    "\n",
    "pprint(messages)"
   ]
  }
 ],
 "metadata": {
  "kernelspec": {
   "display_name": "agents",
   "language": "python",
   "name": "python3"
  },
  "language_info": {
   "codemirror_mode": {
    "name": "ipython",
    "version": 3
   },
   "file_extension": ".py",
   "mimetype": "text/x-python",
   "name": "python",
   "nbconvert_exporter": "python",
   "pygments_lexer": "ipython3",
   "version": "3.10.15"
  }
 },
 "nbformat": 4,
 "nbformat_minor": 2
}
